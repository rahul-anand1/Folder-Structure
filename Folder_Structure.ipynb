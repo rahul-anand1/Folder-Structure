{
 "cells": [
  {
   "cell_type": "code",
   "execution_count": 24,
   "metadata": {},
   "outputs": [],
   "source": [
    "import os"
   ]
  },
  {
   "cell_type": "code",
   "execution_count": 25,
   "metadata": {},
   "outputs": [],
   "source": [
    "list_procedures = ['9.1.3.a_Procedure-1', '9.1.3.b_Procedure-2', '9.1.3.c_Procedure-3']\n",
    "list_pro1 = ['9.1.2_Dataset', '9.1.3.a.i_Word Embedding', '9.1.3.a.ii_Model -Training', '9.1.3.a.iii_Text-Classification', '9.1.3.a.iv_Model -Validation', '9.1.3.a.v_Cross-Validation']\n",
    "list_pro2 = ['9.1.3.b.i_Keyword-Extraction', '9.1.3.b.ii_Manual-Validation']\n",
    "list_pro3 = ['9.1.4_Conclusion']"
   ]
  },
  {
   "cell_type": "code",
   "execution_count": 27,
   "metadata": {},
   "outputs": [
    {
     "name": "stdout",
     "output_type": "stream",
     "text": [
      "Enter experiment number.1\n",
      "Directory  Experiment-1/9.1.3.a_Procedure-1/9.1.2_Dataset  already exists\n",
      "Directory  Experiment-1/9.1.3.a_Procedure-1/9.1.2_Dataset  already exists\n",
      "Directory  Experiment-1/9.1.3.a_Procedure-1/9.1.3.a.i_Word Embedding  already exists\n",
      "Directory  Experiment-1/9.1.3.a_Procedure-1/9.1.3.a.i_Word Embedding  already exists\n",
      "Directory  Experiment-1/9.1.3.a_Procedure-1/9.1.3.a.ii_Model -Training  already exists\n",
      "Directory  Experiment-1/9.1.3.a_Procedure-1/9.1.3.a.ii_Model -Training  already exists\n",
      "Directory  Experiment-1/9.1.3.a_Procedure-1/9.1.3.a.iii_Text-Classification  already exists\n",
      "Directory  Experiment-1/9.1.3.a_Procedure-1/9.1.3.a.iii_Text-Classification  already exists\n",
      "Directory  Experiment-1/9.1.3.a_Procedure-1/9.1.3.a.iv_Model -Validation  already exists\n",
      "Directory  Experiment-1/9.1.3.a_Procedure-1/9.1.3.a.iv_Model -Validation  already exists\n",
      "Directory  Experiment-1/9.1.3.a_Procedure-1/9.1.3.a.v_Cross-Validation  already exists\n",
      "Directory  Experiment-1/9.1.3.a_Procedure-1/9.1.3.a.v_Cross-Validation  already exists\n",
      "Directory  Experiment-1/9.1.3.b_Procedure-2/9.1.3.b.i_Keyword-Extraction  already exists\n",
      "Directory  Experiment-1/9.1.3.b_Procedure-2/9.1.3.b.i_Keyword-Extraction  already exists\n",
      "Directory  Experiment-1/9.1.3.b_Procedure-2/9.1.3.b.ii_Manual-Validation  already exists\n",
      "Directory  Experiment-1/9.1.3.b_Procedure-2/9.1.3.b.ii_Manual-Validation  already exists\n",
      "Directory  Experiment-1/9.1.3.c_Procedure-3/9.1.4_Conclusion  already exists\n",
      "Directory  Experiment-1/9.1.3.c_Procedure-3/9.1.4_Conclusion  already exists\n"
     ]
    }
   ],
   "source": [
    "import os\n",
    "\n",
    "main_dir = [list_pro1, list_pro2, list_pro3]\n",
    "\n",
    "## User Input for Experiment No.\n",
    "exp_no = input('Enter experiment number.')\n",
    "root_dir = 'Experiment-' + exp_no\n",
    "main_dir_names = list_procedures # Name of the sub-directories\n",
    "def main():\n",
    "    # Create directory\n",
    "    for i in range(0, len(main_dir)):\n",
    "        for j in range(0,len(main_dir[i])):\n",
    "            dirName = str(root_dir) + '/' + str(main_dir_names[i]) +'/' + str(main_dir[i][j])\n",
    "            \n",
    "            try:\n",
    "                # Create target Directory\n",
    "                os.makedirs(dirName)\n",
    "                print(\"Directory \" , dirName ,  \" Created \") \n",
    "            except FileExistsError:\n",
    "                print(\"Directory \" , dirName ,  \" already exists\")        \n",
    "            \n",
    "            # Create target Directory if don't exist\n",
    "            if not os.path.exists(dirName):\n",
    "                os.makedirs(dirName)\n",
    "                print(\"Directory \" , dirName ,  \" Created \")\n",
    "            else:    \n",
    "                print(\"Directory \" , dirName ,  \" already exists\")\n",
    "         \n",
    "if __name__ == '__main__':\n",
    "    main()"
   ]
  },
  {
   "cell_type": "code",
   "execution_count": null,
   "metadata": {},
   "outputs": [],
   "source": []
  }
 ],
 "metadata": {
  "kernelspec": {
   "display_name": "Python 3",
   "language": "python",
   "name": "python3"
  },
  "language_info": {
   "codemirror_mode": {
    "name": "ipython",
    "version": 3
   },
   "file_extension": ".py",
   "mimetype": "text/x-python",
   "name": "python",
   "nbconvert_exporter": "python",
   "pygments_lexer": "ipython3",
   "version": "3.7.1"
  }
 },
 "nbformat": 4,
 "nbformat_minor": 2
}
